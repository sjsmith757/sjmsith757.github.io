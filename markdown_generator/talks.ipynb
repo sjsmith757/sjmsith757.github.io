{
 "cells": [
  {
   "cell_type": "markdown",
   "metadata": {
    "deletable": true,
    "editable": true
   },
   "source": [
    "# Talks markdown generator for academicpages\n",
    "\n",
    "Takes a TSV of talks with metadata and converts them for use with [academicpages.github.io](academicpages.github.io). This is an interactive Jupyter notebook ([see more info here](http://jupyter-notebook-beginner-guide.readthedocs.io/en/latest/what_is_jupyter.html)). The core python code is also in `talks.py`. Run either from the `markdown_generator` folder after replacing `talks.tsv` with one containing your data.\n",
    "\n",
    "TODO: Make this work with BibTex and other databases, rather than Stuart's non-standard TSV format and citation style."
   ]
  },
  {
   "cell_type": "code",
   "execution_count": 1,
   "metadata": {
    "collapsed": false,
    "deletable": true,
    "editable": true
   },
   "outputs": [],
   "source": [
    "import pandas as pd\n",
    "import os"
   ]
  },
  {
   "cell_type": "markdown",
   "metadata": {},
   "source": [
    "## Data format\n",
    "\n",
    "The TSV needs to have the following columns: title, type, url_slug, venue, date, location, talk_url, description, with a header at the top. Many of these fields can be blank, but the columns must be in the TSV.\n",
    "\n",
    "- Fields that cannot be blank: `title`, `url_slug`, `date`. All else can be blank. `type` defaults to \"Talk\" \n",
    "- `date` must be formatted as YYYY-MM-DD.\n",
    "- `url_slug` will be the descriptive part of the .md file and the permalink URL for the page about the paper. \n",
    "    - The .md file will be `YYYY-MM-DD-[url_slug].md` and the permalink will be `https://[yourdomain]/talks/YYYY-MM-DD-[url_slug]`\n",
    "    - The combination of `url_slug` and `date` must be unique, as it will be the basis for your filenames\n",
    "\n",
    "This is how the raw file looks (it doesn't look pretty, use a spreadsheet or other program to edit and create)."
   ]
  },
  {
   "cell_type": "code",
   "execution_count": 2,
   "metadata": {
    "collapsed": false
   },
   "outputs": [
    {
     "name": "stdout",
     "output_type": "stream",
     "text": [
      "title\ttype\turl_slug\tvenue\tdate\tlocation\ttalk_url\tdescription\r\n",
      "Talk 1 on Relevant Topic in Your Field\tTalk\ttalk-1\tUC San Francisco, Department of Testing\t2012-03-01\tSan Francisco, California\t\tThis is a description of your talk, which is a markdown files that can be all markdown-ified like any other post. Yay markdown!\r\n",
      "Tutorial 1 on Relevant Topic in Your Field\tTutorial\ttutorial-1\tUC-Berkeley Institute for Testing Science\t2013-03-01\tBerkeley CA, USA\thttp://exampleurl.com\tThis is a description of your tutorial, note the different field in type. This is a markdown files that can be all markdown-ified like any other post. Yay markdown!\r\n",
      "Talk 2 on Relevant Topic in Your Field\tTalk\ttalk-2\tLondon School of Testing\t2014-02-01\tLondon, UK\thttp://example2.com\tThis is a description of your talk, which is a markdown files that can be all markdown-ified like any other post. Yay markdown!\r\n",
      "Conference Proceeding talk 3 on Relevant Topic in Your Field\tConference proceedings talk\ttalk-3\tTesting Institute of America 2014 Annual Conference\t2014-03-01\tLos Angeles, CA\t\tThis is a description of your conference proceedings talk, note the different field in type. You can put anything in this field."
     ]
    }
   ],
   "source": [
    "!cat talks.tsv"
   ]
  },
  {
   "cell_type": "markdown",
   "metadata": {},
   "source": [
    "## Import TSV\n",
    "\n",
    "Pandas makes this easy with the read_csv function. We are using a TSV, so we specify the separator as a tab, or `\\t`.\n",
    "\n",
    "I found it important to put this data in a tab-separated values format, because there are a lot of commas in this kind of data and comma-separated values can get messed up. However, you can modify the import statement, as pandas also has read_excel(), read_json(), and others."
   ]
  },
  {
   "cell_type": "code",
   "execution_count": 2,
   "metadata": {
    "collapsed": false,
    "deletable": true,
    "editable": true
   },
   "outputs": [
    {
     "data": {
      "text/html": [
       "<div>\n",
       "<style scoped>\n",
       "    .dataframe tbody tr th:only-of-type {\n",
       "        vertical-align: middle;\n",
       "    }\n",
       "\n",
       "    .dataframe tbody tr th {\n",
       "        vertical-align: top;\n",
       "    }\n",
       "\n",
       "    .dataframe thead th {\n",
       "        text-align: right;\n",
       "    }\n",
       "</style>\n",
       "<table border=\"1\" class=\"dataframe\">\n",
       "  <thead>\n",
       "    <tr style=\"text-align: right;\">\n",
       "      <th></th>\n",
       "      <th>title</th>\n",
       "      <th>type</th>\n",
       "      <th>url_slug</th>\n",
       "      <th>venue</th>\n",
       "      <th>date</th>\n",
       "      <th>location</th>\n",
       "      <th>talk_url</th>\n",
       "      <th>description</th>\n",
       "    </tr>\n",
       "  </thead>\n",
       "  <tbody>\n",
       "    <tr>\n",
       "      <th>0</th>\n",
       "      <td>How Internal and External Processes Control Va...</td>\n",
       "      <td>Talk</td>\n",
       "      <td>mcw22</td>\n",
       "      <td>Midwest Climate Workshop</td>\n",
       "      <td>2022-09-01</td>\n",
       "      <td>West Lafayette, IN, USA</td>\n",
       "      <td>NaN</td>\n",
       "      <td>NaN</td>\n",
       "    </tr>\n",
       "    <tr>\n",
       "      <th>1</th>\n",
       "      <td>Diabatic Heating Increases Southern Annular Mo...</td>\n",
       "      <td>Talk</td>\n",
       "      <td>aofd22</td>\n",
       "      <td>AMS Conference on Atmospheric and Ocean Fluid ...</td>\n",
       "      <td>2022-06-01</td>\n",
       "      <td>Breckenridge, CO, USA</td>\n",
       "      <td>NaN</td>\n",
       "      <td>NaN</td>\n",
       "    </tr>\n",
       "    <tr>\n",
       "      <th>2</th>\n",
       "      <td>Revisiting the Role of Diabatic Eddy Generatio...</td>\n",
       "      <td>Talk</td>\n",
       "      <td>xroads22</td>\n",
       "      <td>Crossroads Conference</td>\n",
       "      <td>2022-03-01</td>\n",
       "      <td>Bloomington, IN, USA</td>\n",
       "      <td>NaN</td>\n",
       "      <td>NaN</td>\n",
       "    </tr>\n",
       "    <tr>\n",
       "      <th>3</th>\n",
       "      <td>How Do the Dominant Modes of Jet Variability R...</td>\n",
       "      <td>Talk</td>\n",
       "      <td>agu21</td>\n",
       "      <td>AGU Fall Meeting</td>\n",
       "      <td>2021-12-01</td>\n",
       "      <td>New Orleans, LA, USA</td>\n",
       "      <td>NaN</td>\n",
       "      <td>NaN</td>\n",
       "    </tr>\n",
       "    <tr>\n",
       "      <th>4</th>\n",
       "      <td>Machine Learning Workshop</td>\n",
       "      <td>Tutorial</td>\n",
       "      <td>easmlw</td>\n",
       "      <td>Indiana University Bloomington</td>\n",
       "      <td>2021-10-01</td>\n",
       "      <td>Bloomington, IN, USA</td>\n",
       "      <td>NaN</td>\n",
       "      <td>NaN</td>\n",
       "    </tr>\n",
       "    <tr>\n",
       "      <th>5</th>\n",
       "      <td>The Wavy Rain: How the 'Local Hydrologic Cycle...</td>\n",
       "      <td>Talk</td>\n",
       "      <td>pusem21</td>\n",
       "      <td>Purdue University “Storm Snacks” Seminar</td>\n",
       "      <td>2021-10-01</td>\n",
       "      <td>Virtual</td>\n",
       "      <td>NaN</td>\n",
       "      <td>NaN</td>\n",
       "    </tr>\n",
       "    <tr>\n",
       "      <th>6</th>\n",
       "      <td>How Moist and Dry Intrusions Control the Local...</td>\n",
       "      <td>Talk</td>\n",
       "      <td>agu20</td>\n",
       "      <td>AGU Fall Meeting</td>\n",
       "      <td>2020-12-01</td>\n",
       "      <td>Virtual</td>\n",
       "      <td>NaN</td>\n",
       "      <td>NaN</td>\n",
       "    </tr>\n",
       "    <tr>\n",
       "      <th>7</th>\n",
       "      <td>How much will a changing meridional surface te...</td>\n",
       "      <td>Talk</td>\n",
       "      <td>agu19</td>\n",
       "      <td>AGU Fall Meeting</td>\n",
       "      <td>2019-12-01</td>\n",
       "      <td>San Francisco, CA, USA</td>\n",
       "      <td>NaN</td>\n",
       "      <td>NaN</td>\n",
       "    </tr>\n",
       "    <tr>\n",
       "      <th>8</th>\n",
       "      <td>Dynamics Behind Forced Wet and Dry Extremes in...</td>\n",
       "      <td>Talk</td>\n",
       "      <td>aofd19</td>\n",
       "      <td>AMS Conference on Atmospheric and Ocean Fluid ...</td>\n",
       "      <td>2019-06-01</td>\n",
       "      <td>Portland, ME, USA</td>\n",
       "      <td>NaN</td>\n",
       "      <td>NaN</td>\n",
       "    </tr>\n",
       "    <tr>\n",
       "      <th>9</th>\n",
       "      <td>Anthropogenic Impacts on Hydrologic Cycle Extr...</td>\n",
       "      <td>Talk</td>\n",
       "      <td>xroads18</td>\n",
       "      <td>Crossroads Conference</td>\n",
       "      <td>2019-03-01</td>\n",
       "      <td>Bloomington, IN, USA</td>\n",
       "      <td>NaN</td>\n",
       "      <td>NaN</td>\n",
       "    </tr>\n",
       "    <tr>\n",
       "      <th>10</th>\n",
       "      <td>Zonal-mean Zonal Wind Response to Surface Heat...</td>\n",
       "      <td>Talk</td>\n",
       "      <td>agu18</td>\n",
       "      <td>AGU Fall Meeting</td>\n",
       "      <td>2018-12-01</td>\n",
       "      <td>Washington, DC, USA</td>\n",
       "      <td>NaN</td>\n",
       "      <td>NaN</td>\n",
       "    </tr>\n",
       "    <tr>\n",
       "      <th>11</th>\n",
       "      <td>Response of Hydrologic Cycle Extremes over the...</td>\n",
       "      <td>Talk</td>\n",
       "      <td>mscar18</td>\n",
       "      <td>Midwest Student Conference on Atmospheric Rese...</td>\n",
       "      <td>2018-10-01</td>\n",
       "      <td>Urbana-Champagne, IL, USA</td>\n",
       "      <td>NaN</td>\n",
       "      <td>NaN</td>\n",
       "    </tr>\n",
       "  </tbody>\n",
       "</table>\n",
       "</div>"
      ],
      "text/plain": [
       "                                                title      type  url_slug  \\\n",
       "0   How Internal and External Processes Control Va...      Talk     mcw22   \n",
       "1   Diabatic Heating Increases Southern Annular Mo...      Talk    aofd22   \n",
       "2   Revisiting the Role of Diabatic Eddy Generatio...      Talk  xroads22   \n",
       "3   How Do the Dominant Modes of Jet Variability R...      Talk     agu21   \n",
       "4                           Machine Learning Workshop  Tutorial    easmlw   \n",
       "5   The Wavy Rain: How the 'Local Hydrologic Cycle...      Talk   pusem21   \n",
       "6   How Moist and Dry Intrusions Control the Local...      Talk     agu20   \n",
       "7   How much will a changing meridional surface te...      Talk     agu19   \n",
       "8   Dynamics Behind Forced Wet and Dry Extremes in...      Talk    aofd19   \n",
       "9   Anthropogenic Impacts on Hydrologic Cycle Extr...      Talk  xroads18   \n",
       "10  Zonal-mean Zonal Wind Response to Surface Heat...      Talk     agu18   \n",
       "11  Response of Hydrologic Cycle Extremes over the...      Talk   mscar18   \n",
       "\n",
       "                                                venue        date  \\\n",
       "0                            Midwest Climate Workshop  2022-09-01   \n",
       "1   AMS Conference on Atmospheric and Ocean Fluid ...  2022-06-01   \n",
       "2                               Crossroads Conference  2022-03-01   \n",
       "3                                    AGU Fall Meeting  2021-12-01   \n",
       "4                      Indiana University Bloomington  2021-10-01   \n",
       "5            Purdue University “Storm Snacks” Seminar  2021-10-01   \n",
       "6                                    AGU Fall Meeting  2020-12-01   \n",
       "7                                    AGU Fall Meeting  2019-12-01   \n",
       "8   AMS Conference on Atmospheric and Ocean Fluid ...  2019-06-01   \n",
       "9                               Crossroads Conference  2019-03-01   \n",
       "10                                   AGU Fall Meeting  2018-12-01   \n",
       "11  Midwest Student Conference on Atmospheric Rese...  2018-10-01   \n",
       "\n",
       "                     location  talk_url  description  \n",
       "0     West Lafayette, IN, USA       NaN          NaN  \n",
       "1       Breckenridge, CO, USA       NaN          NaN  \n",
       "2        Bloomington, IN, USA       NaN          NaN  \n",
       "3        New Orleans, LA, USA       NaN          NaN  \n",
       "4        Bloomington, IN, USA       NaN          NaN  \n",
       "5                     Virtual       NaN          NaN  \n",
       "6                     Virtual       NaN          NaN  \n",
       "7      San Francisco, CA, USA       NaN          NaN  \n",
       "8           Portland, ME, USA       NaN          NaN  \n",
       "9        Bloomington, IN, USA       NaN          NaN  \n",
       "10        Washington, DC, USA       NaN          NaN  \n",
       "11  Urbana-Champagne, IL, USA       NaN          NaN  "
      ]
     },
     "execution_count": 2,
     "metadata": {},
     "output_type": "execute_result"
    }
   ],
   "source": [
    "talks = pd.read_csv(\"talks.tsv\", sep=\"\\t\", header=0)\n",
    "talks"
   ]
  },
  {
   "cell_type": "markdown",
   "metadata": {},
   "source": [
    "## Escape special characters\n",
    "\n",
    "YAML is very picky about how it takes a valid string, so we are replacing single and double quotes (and ampersands) with their HTML encoded equivilents. This makes them look not so readable in raw format, but they are parsed and rendered nicely."
   ]
  },
  {
   "cell_type": "code",
   "execution_count": 3,
   "metadata": {
    "collapsed": false,
    "deletable": true,
    "editable": true
   },
   "outputs": [],
   "source": [
    "html_escape_table = {\n",
    "    \"&\": \"&amp;\",\n",
    "    '\"': \"&quot;\",\n",
    "    \"'\": \"&apos;\"\n",
    "    }\n",
    "\n",
    "def html_escape(text):\n",
    "    if type(text) is str:\n",
    "        return \"\".join(html_escape_table.get(c,c) for c in text)\n",
    "    else:\n",
    "        return \"False\""
   ]
  },
  {
   "cell_type": "markdown",
   "metadata": {},
   "source": [
    "## Creating the markdown files\n",
    "\n",
    "This is where the heavy lifting is done. This loops through all the rows in the TSV dataframe, then starts to concatentate a big string (```md```) that contains the markdown for each type. It does the YAML metadata first, then does the description for the individual page."
   ]
  },
  {
   "cell_type": "code",
   "execution_count": 4,
   "metadata": {
    "collapsed": false,
    "deletable": true,
    "editable": true
   },
   "outputs": [],
   "source": [
    "loc_dict = {}\n",
    "\n",
    "for row, item in talks.iterrows():\n",
    "    \n",
    "    md_filename = str(item.date) + \"-\" + item.url_slug + \".md\"\n",
    "    html_filename = str(item.date) + \"-\" + item.url_slug \n",
    "    year = item.date[:4]\n",
    "    \n",
    "    md = \"---\\ntitle: \\\"\"   + item.title + '\"\\n'\n",
    "    md += \"collection: talks\" + \"\\n\"\n",
    "    \n",
    "    if len(str(item.type)) > 3:\n",
    "        md += 'type: \"' + item.type + '\"\\n'\n",
    "    else:\n",
    "        md += 'type: \"Talk\"\\n'\n",
    "    \n",
    "    md += \"permalink: /talks/\" + html_filename + \"\\n\"\n",
    "    \n",
    "    if len(str(item.venue)) > 3:\n",
    "        md += 'venue: \"' + item.venue + '\"\\n'\n",
    "        \n",
    "    if len(str(item.location)) > 3:\n",
    "        md += \"date: \" + str(item.date) + \"\\n\"\n",
    "    \n",
    "    if len(str(item.location)) > 3:\n",
    "        md += 'location: \"' + str(item.location) + '\"\\n'\n",
    "           \n",
    "    md += \"---\\n\"\n",
    "    \n",
    "    \n",
    "    if len(str(item.talk_url)) > 3:\n",
    "        md += \"\\n[More information here](\" + item.talk_url + \")\\n\" \n",
    "        \n",
    "    \n",
    "    if len(str(item.description)) > 3:\n",
    "        md += \"\\n\" + html_escape(item.description) + \"\\n\"\n",
    "        \n",
    "        \n",
    "    md_filename = os.path.basename(md_filename)\n",
    "    #print(md)\n",
    "    \n",
    "    with open(\"../_talks/\" + md_filename, 'w') as f:\n",
    "        f.write(md)"
   ]
  },
  {
   "cell_type": "markdown",
   "metadata": {},
   "source": [
    "These files are in the talks directory, one directory below where we're working from."
   ]
  },
  {
   "cell_type": "code",
   "execution_count": 7,
   "metadata": {
    "collapsed": false,
    "deletable": true,
    "editable": true
   },
   "outputs": [
    {
     "name": "stdout",
     "output_type": "stream",
     "text": [
      " Volume in drive C is Windows\n",
      " Volume Serial Number is 6259-BD3A\n",
      "\n",
      " Directory of c:\\Users\\samjs\\Documents\\sjmsith757.github.io\\_talks\n",
      "\n",
      "11/16/22  01:34 AM    <DIR>          .\n",
      "11/16/22  01:34 AM    <DIR>          ..\n",
      "11/15/22  01:55 PM               367 2012-03-01-talk-1.md\n",
      "11/15/22  01:55 PM               459 2013-03-01-tutorial-1.md\n",
      "11/15/22  01:55 PM               385 2014-02-01-talk-2.md\n",
      "11/15/22  01:55 PM               415 2014-03-01-talk-3.md\n",
      "11/16/22  01:34 AM               291 2018-10-01-mscar18.md\n",
      "11/16/22  01:34 AM               271 2018-12-01-agu18.md\n",
      "11/16/22  01:34 AM               274 2019-03-01-xroads18.md\n",
      "11/16/22  01:34 AM               261 2019-06-01-aofd19.md\n",
      "11/16/22  01:34 AM               260 2019-12-01-agu19.md\n",
      "11/16/22  01:34 AM               251 2020-12-01-agu20.md\n",
      "11/16/22  01:34 AM               213 2021-10-01-easmlw.md\n",
      "11/16/22  01:34 AM               292 2021-10-01-pusem21.md\n",
      "11/16/22  01:34 AM               247 2021-12-01-agu21.md\n",
      "11/16/22  01:34 AM               272 2022-03-01-xroads22.md\n",
      "11/16/22  01:34 AM               319 2022-06-01-aofd22.md\n",
      "11/16/22  01:34 AM               288 2022-09-01-mcw22.md\n",
      "              16 File(s)          4,865 bytes\n",
      "               2 Dir(s)  68,046,622,720 bytes free\n"
     ]
    }
   ],
   "source": [
    "!dir \"../_talks\""
   ]
  },
  {
   "cell_type": "code",
   "execution_count": 7,
   "metadata": {
    "collapsed": false,
    "deletable": true,
    "editable": true
   },
   "outputs": [
    {
     "name": "stdout",
     "output_type": "stream",
     "text": [
      "---\r\n",
      "title: \"Tutorial 1 on Relevant Topic in Your Field\"\r\n",
      "collection: talks\r\n",
      "type: \"Tutorial\"\r\n",
      "permalink: /talks/2013-03-01-tutorial-1\r\n",
      "venue: \"UC-Berkeley Institute for Testing Science\"\r\n",
      "date: 2013-03-01\r\n",
      "location: \"Berkeley CA, USA\"\r\n",
      "---\r\n",
      "\r\n",
      "[More information here](http://exampleurl.com)\r\n",
      "\r\n",
      "This is a description of your tutorial, note the different field in type. This is a markdown files that can be all markdown-ified like any other post. Yay markdown!\r\n"
     ]
    }
   ],
   "source": [
    "!cat ../_talks/2013-03-01-tutorial-1.md"
   ]
  }
 ],
 "metadata": {
  "kernelspec": {
   "display_name": "Python 3.7.8 ('mypy')",
   "language": "python",
   "name": "python3"
  },
  "language_info": {
   "codemirror_mode": {
    "name": "ipython",
    "version": 3
   },
   "file_extension": ".py",
   "mimetype": "text/x-python",
   "name": "python",
   "nbconvert_exporter": "python",
   "pygments_lexer": "ipython3",
   "version": "3.7.8"
  },
  "vscode": {
   "interpreter": {
    "hash": "0371fa2d113485464f33e8df42b3a11526628cb20892e67f97eecdaddb16cd8a"
   }
  }
 },
 "nbformat": 4,
 "nbformat_minor": 0
}
