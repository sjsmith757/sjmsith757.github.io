{
 "cells": [
  {
   "cell_type": "markdown",
   "metadata": {},
   "source": [
    "# Leaflet cluster map of talk locations\n",
    "\n",
    "Run this from the _talks/ directory, which contains .md files of all your talks. This scrapes the location YAML field from each .md file, geolocates it with geopy/Nominatim, and uses the getorg library to output data, HTML, and Javascript for a standalone cluster map."
   ]
  },
  {
   "cell_type": "code",
   "execution_count": 1,
   "metadata": {
    "collapsed": false
   },
   "outputs": [
    {
     "name": "stderr",
     "output_type": "stream",
     "text": [
      "c:\\Users\\samjs\\Miniconda3\\envs\\mypy\\lib\\site-packages\\requests\\__init__.py:91: RequestsDependencyWarning: urllib3 (2.0.7) or chardet (3.0.4) doesn't match a supported version!\n",
      "  RequestsDependencyWarning)\n"
     ]
    },
    {
     "name": "stdout",
     "output_type": "stream",
     "text": [
      "IPywidgets and ipyleaflet support enabled.\n"
     ]
    }
   ],
   "source": [
    "# !pip install getorg --upgrade\n",
    "import glob\n",
    "import getorg\n",
    "from geopy import Nominatim"
   ]
  },
  {
   "cell_type": "code",
   "execution_count": 2,
   "metadata": {
    "collapsed": false
   },
   "outputs": [],
   "source": [
    "g = glob.glob(\"_talks/*.md\")"
   ]
  },
  {
   "cell_type": "code",
   "execution_count": 7,
   "metadata": {
    "collapsed": true
   },
   "outputs": [],
   "source": [
    "geocoder = Nominatim(user_agent=\"website_talkmap\")\n",
    "location_dict = {}\n",
    "location = \"\"\n",
    "permalink = \"\"\n",
    "title = \"\""
   ]
  },
  {
   "cell_type": "code",
   "execution_count": 8,
   "metadata": {
    "collapsed": false
   },
   "outputs": [
    {
     "name": "stdout",
     "output_type": "stream",
     "text": [
      "_talks\\2018-10-01-mscar18.md\n",
      "Urbana-Champaign, IL, USA \n",
      " Urbana, Champaign County, Illinois, United States\n",
      "_talks\\2018-12-01-agu18.md\n",
      "Washington, DC, USA \n",
      " Washington, District of Columbia, United States\n",
      "_talks\\2019-03-01-xroads18.md\n",
      "Bloomington, IN, USA \n",
      " Bloomington, Monroe County, Indiana, United States\n",
      "_talks\\2019-06-01-aofd19.md\n",
      "Portland, ME, USA \n",
      " Portland, Cumberland County, Maine, United States\n",
      "_talks\\2019-12-01-agu19.md\n",
      "San Francisco, CA, USA \n",
      " San Francisco, California, United States\n",
      "_talks\\2020-12-01-agu20.md\n",
      "_talks\\2021-10-01-easmlw.md\n",
      "Bloomington, IN, USA \n",
      " Bloomington, Monroe County, Indiana, United States\n",
      "_talks\\2021-10-01-pusem21.md\n",
      "_talks\\2021-12-01-agu21.md\n",
      "New Orleans, LA, USA \n",
      " New Orleans, Orleans Parish, Louisiana, United States\n",
      "_talks\\2022-03-01-xroads22.md\n",
      "Bloomington, IN, USA \n",
      " Bloomington, Monroe County, Indiana, United States\n",
      "_talks\\2022-06-01-aofd22.md\n",
      "Breckenridge, CO, USA \n",
      " Breckenridge, Summit County, Colorado, 80424, United States\n",
      "_talks\\2022-09-01-mcw22.md\n",
      "West Lafayette, IN, USA \n",
      " West Lafayette, Tippecanoe County, Indiana, United States\n",
      "_talks\\2022-12-01-agu22.md\n",
      "Chicago, IL, USA \n",
      " Chicago, Cook County, Illinois, United States\n",
      "_talks\\2023-12-01-agu23.md\n",
      "San Francisco, CA, USA \n",
      " San Francisco, California, United States\n"
     ]
    }
   ],
   "source": [
    "\n",
    "for file in g:\n",
    "    with open(file, 'r') as f:\n",
    "        lines = f.read()\n",
    "        if lines.find('location: \"') > 1:\n",
    "            loc_start = lines.find('location: \"') + 11\n",
    "            lines_trim = lines[loc_start:]\n",
    "            loc_end = lines_trim.find('\"')\n",
    "            location = lines_trim[:loc_end]\n",
    "        \n",
    "        if location.lower() != \"virtual\":\n",
    "            location_dict[location] = geocoder.geocode(location)\n",
    "            print(location, \"\\n\", location_dict[location])\n"
   ]
  },
  {
   "cell_type": "code",
   "execution_count": 9,
   "metadata": {
    "collapsed": false
   },
   "outputs": [
    {
     "data": {
      "text/plain": [
       "'Written map to talkmap/'"
      ]
     },
     "execution_count": 9,
     "metadata": {},
     "output_type": "execute_result"
    }
   ],
   "source": [
    "m = getorg.orgmap.create_map_obj()\n",
    "getorg.orgmap.output_html_cluster_map(location_dict, folder_name=\"talkmap\", hashed_usernames=False)"
   ]
  },
  {
   "cell_type": "code",
   "execution_count": null,
   "metadata": {
    "collapsed": true
   },
   "outputs": [],
   "source": []
  }
 ],
 "metadata": {
  "anaconda-cloud": {},
  "kernelspec": {
   "display_name": "mypy",
   "language": "python",
   "name": "python3"
  },
  "language_info": {
   "codemirror_mode": {
    "name": "ipython",
    "version": 3
   },
   "file_extension": ".py",
   "mimetype": "text/x-python",
   "name": "python",
   "nbconvert_exporter": "python",
   "pygments_lexer": "ipython3",
   "version": "3.7.8"
  }
 },
 "nbformat": 4,
 "nbformat_minor": 0
}
